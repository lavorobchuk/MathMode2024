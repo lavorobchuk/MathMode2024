{
 "cells": [
  {
   "cell_type": "markdown",
   "id": "7cc1c12e",
   "metadata": {},
   "source": [
    "# Библиотека PIL и SVD разложение\n",
    "### Воробчук Лилия Андреевна НММбд-01-22"
   ]
  },
  {
   "cell_type": "code",
   "id": "3f817f78",
   "metadata": {
    "jupyter": {
     "is_executing": true
    }
   },
   "source": [
    "from PIL import Image\n",
    "import numpy as np"
   ],
   "outputs": [],
   "execution_count": null
  },
  {
   "cell_type": "code",
   "id": "336635ab",
   "metadata": {
    "jupyter": {
     "is_executing": true
    }
   },
   "source": [
    "img = Image.open('motomoto.jpeg') # делаем .resize(())\n",
    "img"
   ],
   "outputs": [],
   "execution_count": null
  },
  {
   "cell_type": "code",
   "id": "79893149",
   "metadata": {
    "jupyter": {
     "is_executing": true
    }
   },
   "source": [
    "x = np.array(img, dtype=np.float32) "
   ],
   "outputs": [],
   "execution_count": null
  },
  {
   "cell_type": "code",
   "id": "ee450779",
   "metadata": {
    "jupyter": {
     "is_executing": true
    }
   },
   "source": [
    "img_red = x.copy()\n",
    "img_red = img_red[:,:,0]\n",
    "img_red = Image.fromarray(np.asarray(img_red, dtype=np.uint8))\n",
    "img_red"
   ],
   "outputs": [],
   "execution_count": null
  },
  {
   "cell_type": "code",
   "execution_count": 55,
   "id": "7ce67bc1",
   "metadata": {},
   "outputs": [],
   "source": [
    "def reducer(X, r):\n",
    "    U, S, V = np.linalg.svd(X, full_matrices=False) # разложение SVD\n",
    "    Y = U[:,:r] @ np.diag(S[:r]) @ V[:r]\n",
    "    Y[Y < 0] = 0\n",
    "    Y[Y > 255] = 255\n",
    "\n",
    "    return Y"
   ]
  },
  {
   "cell_type": "code",
   "execution_count": 58,
   "id": "754eb27f",
   "metadata": {},
   "outputs": [
    {
     "data": {
      "text/plain": [
       "(1080, 1920, 3)"
      ]
     },
     "execution_count": 58,
     "metadata": {},
     "output_type": "execute_result"
    }
   ],
   "source": [
    "r = 100\n",
    "new_img = []\n",
    "for i in range(3):\n",
    "#     print(x[:,:,i].shape)\n",
    "    redus = reducer(x[:,:,i], r)\n",
    "#     print(redus.shape)\n",
    "    new_img.append(redus.reshape(*redus.shape, 1))\n",
    "    \n",
    "new_img = np.concatenate(tuple(new_img), axis=2)\n",
    "\n",
    "new_img.shape"
   ]
  },
  {
   "cell_type": "code",
   "id": "6e63a9be",
   "metadata": {
    "jupyter": {
     "is_executing": true
    }
   },
   "source": [
    "img_compressed = Image.fromarray(np.asarray(new_img, dtype=np.uint8))\n",
    "img_compressed\n",
    "# Image.fromarray(np.asarray(Y_r, dtype=np.uint8)).save(f'{r}.png')"
   ],
   "outputs": [],
   "execution_count": null
  },
  {
   "cell_type": "code",
   "execution_count": 71,
   "id": "8df5407f",
   "metadata": {},
   "outputs": [],
   "source": [
    "from IPython.display import display "
   ]
  },
  {
   "cell_type": "code",
   "id": "34777d90",
   "metadata": {
    "jupyter": {
     "is_executing": true
    }
   },
   "source": [
    "for r in [1, 3, 5, 10, 20, 30, 40]:\n",
    "    new_img = []\n",
    "    for i in range(3):\n",
    "    #     print(x[:,:,i].shape)\n",
    "        redus = reducer(x[:,:,i], r)\n",
    "    #     print(redus.shape)\n",
    "        new_img.append(redus.reshape(*redus.shape, 1))\n",
    "\n",
    "    new_img = np.concatenate(tuple(new_img), axis=2)\n",
    "    img_compressed = Image.fromarray(np.asarray(new_img, dtype=np.uint8))\n",
    "    display(img_compressed)"
   ],
   "outputs": [],
   "execution_count": null
  },
  {
   "metadata": {},
   "cell_type": "code",
   "outputs": [],
   "execution_count": null,
   "source": "",
   "id": "34f8657229622fff"
  }
 ],
 "metadata": {
  "kernelspec": {
   "display_name": "Python 3 (ipykernel)",
   "language": "python",
   "name": "python3"
  },
  "language_info": {
   "codemirror_mode": {
    "name": "ipython",
    "version": 3
   },
   "file_extension": ".py",
   "mimetype": "text/x-python",
   "name": "python",
   "nbconvert_exporter": "python",
   "pygments_lexer": "ipython3",
   "version": "3.11.7"
  }
 },
 "nbformat": 4,
 "nbformat_minor": 5
}
